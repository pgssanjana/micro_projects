{
  "nbformat": 4,
  "nbformat_minor": 0,
  "metadata": {
    "colab": {
      "name": "face_recognition.ipynb",
      "provenance": [],
      "authorship_tag": "ABX9TyPS/yWWOipo1pPVFc2VJDmJ",
      "include_colab_link": true
    },
    "kernelspec": {
      "name": "python3",
      "display_name": "Python 3"
    },
    "language_info": {
      "name": "python"
    },
    "accelerator": "GPU"
  },
  "cells": [
    {
      "cell_type": "markdown",
      "metadata": {
        "id": "view-in-github",
        "colab_type": "text"
      },
      "source": [
        "<a href=\"https://colab.research.google.com/github/pgssanjana/micro_projects/blob/main/face_recognition.ipynb\" target=\"_parent\"><img src=\"https://colab.research.google.com/assets/colab-badge.svg\" alt=\"Open In Colab\"/></a>"
      ]
    },
    {
      "cell_type": "code",
      "execution_count": 7,
      "metadata": {
        "colab": {
          "base_uri": "https://localhost:8080/",
          "height": 74,
          "resources": {
            "http://localhost:8080/nbextensions/google.colab/files.js": {
              "data": "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",
              "ok": true,
              "headers": [
                [
                  "content-type",
                  "application/javascript"
                ]
              ],
              "status": 200,
              "status_text": ""
            }
          }
        },
        "id": "kVaGNeACGsPx",
        "outputId": "c8fa7243-0e6a-47da-dd1d-63378a3f7536"
      },
      "outputs": [
        {
          "output_type": "display_data",
          "data": {
            "text/plain": [
              "<IPython.core.display.HTML object>"
            ],
            "text/html": [
              "\n",
              "     <input type=\"file\" id=\"files-64994522-2485-420a-8cf8-e790d992992f\" name=\"files[]\" multiple disabled\n",
              "        style=\"border:none\" />\n",
              "     <output id=\"result-64994522-2485-420a-8cf8-e790d992992f\">\n",
              "      Upload widget is only available when the cell has been executed in the\n",
              "      current browser session. Please rerun this cell to enable.\n",
              "      </output>\n",
              "      <script src=\"/nbextensions/google.colab/files.js\"></script> "
            ]
          },
          "metadata": {}
        },
        {
          "output_type": "stream",
          "name": "stdout",
          "text": [
            "Saving kaggle.json to kaggle.json\n"
          ]
        }
      ],
      "source": [
        "!pip install -q kaggle\n",
        "from google.colab import files\n",
        "files.upload()\n",
        "! mkdir ~/.kaggle\n",
        "! cp kaggle.json ~/.kaggle/\n",
        "! chmod 600 ~/.kaggle/kaggle.json\n",
        "# ! kaggle datasets list\n"
      ]
    },
    {
      "cell_type": "code",
      "source": [
        "!kaggle datasets download -d pramod722445/face-recognition-30\n"
      ],
      "metadata": {
        "id": "lM81wvDwGu66",
        "colab": {
          "base_uri": "https://localhost:8080/"
        },
        "outputId": "bd6f4872-a42b-4c28-8fc4-3f12feb322f1"
      },
      "execution_count": 9,
      "outputs": [
        {
          "output_type": "stream",
          "name": "stdout",
          "text": [
            "face-recognition-30.zip: Skipping, found more recently modified local copy (use --force to force download)\n"
          ]
        }
      ]
    },
    {
      "cell_type": "code",
      "source": [
        "import zipfile\n",
        "zf = \"/content/face-recognition-30.zip\"\n",
        "target_dir = \"/content/input/face-recognition-30/dataset\"\n",
        "zfile = zipfile.ZipFile(zf)\n",
        "zfile.extractall(target_dir)"
      ],
      "metadata": {
        "id": "3LxTxk-uGu9O"
      },
      "execution_count": 10,
      "outputs": []
    },
    {
      "cell_type": "code",
      "source": [
        "import numpy as np\n",
        "import pandas as pd\n",
        "import tensorflow as tf\n",
        "import os\n",
        "import cv2\n",
        "import matplotlib.pyplot as plt\n",
        "import matplotlib as mpl\n",
        "\n",
        "# style your matplotlib\n",
        "mpl.style.use(\"seaborn-darkgrid\")\n",
        "# run this block\n",
        "\n"
      ],
      "metadata": {
        "id": "g_NnFsj7Gu_0"
      },
      "execution_count": 11,
      "outputs": []
    },
    {
      "cell_type": "code",
      "source": [
        "from tqdm import tqdm"
      ],
      "metadata": {
        "id": "qCp2b82hGvCS"
      },
      "execution_count": 12,
      "outputs": []
    },
    {
      "cell_type": "code",
      "source": [
        "files=os.listdir(\"/content/input/face-recognition-30/dataset/dataset/\")\n",
        "files"
      ],
      "metadata": {
        "id": "j4VEWHlJGvEj",
        "colab": {
          "base_uri": "https://localhost:8080/"
        },
        "outputId": "920658ad-f671-4dfc-e11a-4d5a80ec619d"
      },
      "execution_count": 13,
      "outputs": [
        {
          "output_type": "execute_result",
          "data": {
            "text/plain": [
              "['mohamed_ali',\n",
              " 'pewdiepie',\n",
              " 'dhoni',\n",
              " 'angelina_jolie',\n",
              " 'ronaldo',\n",
              " 'arnold_schwarzenegger',\n",
              " 'Jim_Parsons',\n",
              " 'virat_kohli',\n",
              " 'ROHIT_SHARMA',\n",
              " 'Matt_LeBlanc',\n",
              " 'brad_pitt',\n",
              " 'Simon_Helberg',\n",
              " 'scarlett_johansson',\n",
              " 'Jennifer_Aniston',\n",
              " 'Courteney_Cox',\n",
              " 'Matthew_Perry',\n",
              " 'aishwarya_rai',\n",
              " 'sylvester_stallone',\n",
              " 'bhuvan_bam',\n",
              " 'Johnny_Galeck',\n",
              " 'manoj_bajpayee',\n",
              " 'messi',\n",
              " 'David_Schwimmer',\n",
              " 'Sachin_Tendulka',\n",
              " 'random_person',\n",
              " 'Lisa_Kudrow',\n",
              " 'hardik_pandya',\n",
              " 'Kunal_Nayya',\n",
              " 'Pankaj_Tripathi',\n",
              " 'suresh_raina']"
            ]
          },
          "metadata": {},
          "execution_count": 13
        }
      ]
    },
    {
      "cell_type": "code",
      "source": [
        "image_array=[]  # it's a list later i will convert it to array\n",
        "label_array=[]\n",
        "path=\"/content/input/face-recognition-30/dataset/dataset/\"\n",
        "# loop through each sub-folder in train\n",
        "for i in range(len(files)):\n",
        "    # files in sub-folder\n",
        "    file_sub=os.listdir(path+files[i])\n",
        "\n",
        "    for k in tqdm(range(len(file_sub))):\n",
        "        try:\n",
        "            img=cv2.imread(path+files[i]+\"/\"+file_sub[k])\n",
        "            img=cv2.cvtColor(img,cv2.COLOR_BGR2RGB)\n",
        "            img=cv2.resize(img,(96,96))\n",
        "            image_array.append(img)\n",
        "            label_array.append(i)\n",
        "        except:\n",
        "            pass"
      ],
      "metadata": {
        "id": "Q9MAXZMDGvHH",
        "colab": {
          "base_uri": "https://localhost:8080/"
        },
        "outputId": "8427dc30-91ae-4a9b-8040-6dda9e2df64f"
      },
      "execution_count": 14,
      "outputs": [
        {
          "output_type": "stream",
          "name": "stderr",
          "text": [
            "100%|██████████| 338/338 [00:00<00:00, 343.34it/s]\n",
            "100%|██████████| 395/395 [00:00<00:00, 432.48it/s]\n",
            "100%|██████████| 314/314 [00:00<00:00, 802.42it/s]\n",
            "100%|██████████| 465/465 [00:02<00:00, 198.09it/s]\n",
            "100%|██████████| 418/418 [00:00<00:00, 436.92it/s]\n",
            "100%|██████████| 553/553 [00:01<00:00, 343.43it/s]\n",
            "100%|██████████| 639/639 [00:01<00:00, 401.93it/s]\n",
            "100%|██████████| 391/391 [00:00<00:00, 421.00it/s]\n",
            "100%|██████████| 265/265 [00:00<00:00, 906.23it/s]\n",
            "100%|██████████| 449/449 [00:01<00:00, 281.21it/s]\n",
            "100%|██████████| 552/552 [00:02<00:00, 251.34it/s]\n",
            "100%|██████████| 484/484 [00:01<00:00, 364.37it/s]\n",
            "100%|██████████| 507/507 [00:02<00:00, 191.28it/s]\n",
            "100%|██████████| 639/639 [00:02<00:00, 260.42it/s]\n",
            "100%|██████████| 702/702 [00:02<00:00, 256.27it/s]\n",
            "100%|██████████| 530/530 [00:01<00:00, 368.81it/s]\n",
            "100%|██████████| 711/711 [00:02<00:00, 303.21it/s]\n",
            "100%|██████████| 480/480 [00:01<00:00, 345.18it/s]\n",
            "100%|██████████| 382/382 [00:00<00:00, 739.47it/s]\n",
            "100%|██████████| 508/508 [00:01<00:00, 266.12it/s]\n",
            "100%|██████████| 457/457 [00:00<00:00, 707.35it/s]\n",
            "100%|██████████| 432/432 [00:00<00:00, 547.51it/s]\n",
            "100%|██████████| 537/537 [00:01<00:00, 271.40it/s]\n",
            "100%|██████████| 354/354 [00:00<00:00, 453.57it/s]\n",
            "100%|██████████| 2250/2250 [00:02<00:00, 758.73it/s]\n",
            "100%|██████████| 640/640 [00:02<00:00, 255.39it/s]\n",
            "100%|██████████| 292/292 [00:00<00:00, 732.65it/s]\n",
            "100%|██████████| 532/532 [00:00<00:00, 543.30it/s]\n",
            "100%|██████████| 354/354 [00:00<00:00, 580.61it/s]\n",
            "100%|██████████| 319/319 [00:00<00:00, 1113.26it/s]\n"
          ]
        }
      ]
    },
    {
      "cell_type": "code",
      "source": [
        "import gc\n",
        "gc.collect()"
      ],
      "metadata": {
        "colab": {
          "base_uri": "https://localhost:8080/"
        },
        "id": "MLa637mRJD4N",
        "outputId": "9a9bd02f-5076-49c0-d0f7-4897ec11e5c4"
      },
      "execution_count": 15,
      "outputs": [
        {
          "output_type": "execute_result",
          "data": {
            "text/plain": [
              "316"
            ]
          },
          "metadata": {},
          "execution_count": 15
        }
      ]
    },
    {
      "cell_type": "code",
      "source": [
        "image_array=np.array(image_array)/255.0\n",
        "label_array=np.array(label_array)\n"
      ],
      "metadata": {
        "id": "ejeSc5xLJD1o"
      },
      "execution_count": 16,
      "outputs": []
    },
    {
      "cell_type": "code",
      "source": [
        "from sklearn.model_selection import train_test_split\n",
        "X_train,X_test,Y_train,Y_test=train_test_split(image_array,label_array,test_size=0.15)"
      ],
      "metadata": {
        "id": "KUi9FBYvJDzS"
      },
      "execution_count": 17,
      "outputs": []
    },
    {
      "cell_type": "code",
      "source": [
        "from keras import layers,callbacks,utils,applications,optimizers\n",
        "from keras.models import Sequential,Model,load_model"
      ],
      "metadata": {
        "id": "hngjBIXiJDwb"
      },
      "execution_count": 18,
      "outputs": []
    },
    {
      "cell_type": "code",
      "source": [
        "len(files)\n"
      ],
      "metadata": {
        "id": "H2SQECTuGvJw",
        "colab": {
          "base_uri": "https://localhost:8080/"
        },
        "outputId": "66dc348f-5afa-4ca5-b223-0fa81ad76c80"
      },
      "execution_count": 19,
      "outputs": [
        {
          "output_type": "execute_result",
          "data": {
            "text/plain": [
              "30"
            ]
          },
          "metadata": {},
          "execution_count": 19
        }
      ]
    },
    {
      "cell_type": "code",
      "source": [
        "import tensorflow as tf\n",
        "import keras\n",
        "from tensorflow.keras.preprocessing import image_dataset_from_directory\n",
        "from keras.preprocessing.image import ImageDataGenerator\n",
        "# from keras.applications import MobileNet\n",
        "from keras.applications.mobilenet import preprocess_input"
      ],
      "metadata": {
        "id": "hByioZFKJ7hW"
      },
      "execution_count": 20,
      "outputs": []
    },
    {
      "cell_type": "code",
      "source": [
        "from tensorflow.keras.applications.resnet50 import ResNet50"
      ],
      "metadata": {
        "id": "SBZefzqZMA2l"
      },
      "execution_count": 21,
      "outputs": []
    },
    {
      "cell_type": "code",
      "source": [
        "from tensorflow.keras.applications.mobilenet_v2 import MobileNetV2"
      ],
      "metadata": {
        "id": "DhDgzmyAMtTm"
      },
      "execution_count": 22,
      "outputs": []
    },
    {
      "cell_type": "code",
      "source": [
        "\n",
        "model=Sequential()\n",
        "# I will use MobileNetV2 as an pretrained model \n",
        "pretrained_model=MobileNetV2(input_shape=(96,96,3),include_top=False,\n",
        "                                         weights=\"imagenet\")\n",
        "model.add(pretrained_model)\n",
        "model.add(layers.GlobalAveragePooling2D())\n",
        "# add dropout to increase accuracy by not overfitting\n",
        "model.add(layers.Dropout(0.3))\n",
        "# add dense layer as final output\n",
        "model.add(layers.Dense(1))\n",
        "model.summary()"
      ],
      "metadata": {
        "colab": {
          "base_uri": "https://localhost:8080/"
        },
        "id": "nxy3PBeGJm8K",
        "outputId": "220d15b3-d87d-4d02-da1e-47a5d1ede392"
      },
      "execution_count": 23,
      "outputs": [
        {
          "output_type": "stream",
          "name": "stdout",
          "text": [
            "Downloading data from https://storage.googleapis.com/tensorflow/keras-applications/mobilenet_v2/mobilenet_v2_weights_tf_dim_ordering_tf_kernels_1.0_96_no_top.h5\n",
            "9412608/9406464 [==============================] - 0s 0us/step\n",
            "9420800/9406464 [==============================] - 0s 0us/step\n",
            "Model: \"sequential\"\n",
            "_________________________________________________________________\n",
            " Layer (type)                Output Shape              Param #   \n",
            "=================================================================\n",
            " mobilenetv2_1.00_96 (Functi  (None, 3, 3, 1280)       2257984   \n",
            " onal)                                                           \n",
            "                                                                 \n",
            " global_average_pooling2d (G  (None, 1280)             0         \n",
            " lobalAveragePooling2D)                                          \n",
            "                                                                 \n",
            " dropout (Dropout)           (None, 1280)              0         \n",
            "                                                                 \n",
            " dense (Dense)               (None, 1)                 1281      \n",
            "                                                                 \n",
            "=================================================================\n",
            "Total params: 2,259,265\n",
            "Trainable params: 2,225,153\n",
            "Non-trainable params: 34,112\n",
            "_________________________________________________________________\n"
          ]
        }
      ]
    },
    {
      "cell_type": "code",
      "source": [
        "model.compile(optimizer=\"adam\",loss=\"mean_squared_error\",metrics=[\"mae\"])\n",
        "\n"
      ],
      "metadata": {
        "id": "xUuxnhXBJm5l"
      },
      "execution_count": 24,
      "outputs": []
    },
    {
      "cell_type": "code",
      "source": [
        "\n",
        "ckp_path=\"trained_model/model\"\n",
        "model_checkpoint=tf.keras.callbacks.ModelCheckpoint(filepath=ckp_path,\n",
        "                                                   monitor=\"val_mae\",\n",
        "                                                   mode=\"auto\",\n",
        "                                                   save_best_only=True,\n",
        "                                                   save_weights_only=True)\n"
      ],
      "metadata": {
        "id": "UhaGKyvNJm29"
      },
      "execution_count": 25,
      "outputs": []
    },
    {
      "cell_type": "code",
      "source": [
        "# create a lr reducer which decrease learning rate when accuarcy does not increase\n",
        "reduce_lr=tf.keras.callbacks.ReduceLROnPlateau(factor=0.9,monitor=\"val_mae\",\n",
        "                                             mode=\"auto\",cooldown=0,\n",
        "                                             patience=5,verbose=1,min_lr=1e-6)\n",
        "# patience : wait till 5 epoch\n",
        "# verbose : show accuracy every 1 epoch\n",
        "# min_lr=minimum learning rate"
      ],
      "metadata": {
        "id": "L6H8N-nhJm0W"
      },
      "execution_count": 26,
      "outputs": []
    },
    {
      "cell_type": "code",
      "source": [
        "import tensorflow as tf\n",
        "my_callbacks = [\n",
        "    tf.keras.callbacks.EarlyStopping(patience=2),\n",
        "    tf.keras.callbacks.ModelCheckpoint(filepath='model.{epoch:02d}-{val_loss:.2f}.h5',\n",
        "                              monitor='val_loss',\n",
        "                             verbose=1, \n",
        "                             save_best_only=True),\n",
        "    tf.keras.callbacks.TensorBoard(log_dir='./logs'),\n",
        "]"
      ],
      "metadata": {
        "id": "nmqxqiWKPIP_"
      },
      "execution_count": 27,
      "outputs": []
    },
    {
      "cell_type": "code",
      "source": [
        "EPOCHS=10\n",
        "BATCH_SIZE=64\n",
        "\n",
        "history=model.fit(X_train,\n",
        "                 Y_train,\n",
        "                 validation_data=(X_test,Y_test),\n",
        "                 batch_size=BATCH_SIZE,\n",
        "                 epochs=EPOCHS,\n",
        "                 callbacks=my_callbacks\n",
        "                  \n",
        "\n",
        "                 )"
      ],
      "metadata": {
        "colab": {
          "base_uri": "https://localhost:8080/"
        },
        "id": "5TPC7V3cND0P",
        "outputId": "ab4b7fb0-6018-4b95-edf5-274e78a3d1ec"
      },
      "execution_count": 28,
      "outputs": [
        {
          "output_type": "stream",
          "name": "stdout",
          "text": [
            "Epoch 1/10\n",
            "212/212 [==============================] - ETA: 0s - loss: 51.1510 - mae: 5.3421\n",
            "Epoch 1: val_loss improved from inf to 649.70471, saving model to model.01-649.70.h5\n",
            "212/212 [==============================] - 56s 166ms/step - loss: 51.1510 - mae: 5.3421 - val_loss: 649.7047 - val_mae: 24.2453\n",
            "Epoch 2/10\n",
            "211/212 [============================>.] - ETA: 0s - loss: 23.8368 - mae: 3.4541\n",
            "Epoch 2: val_loss improved from 649.70471 to 546.77399, saving model to model.02-546.77.h5\n",
            "212/212 [==============================] - 32s 153ms/step - loss: 23.8408 - mae: 3.4545 - val_loss: 546.7740 - val_mae: 21.6277\n",
            "Epoch 3/10\n",
            "211/212 [============================>.] - ETA: 0s - loss: 16.6373 - mae: 2.7962\n",
            "Epoch 3: val_loss improved from 546.77399 to 288.38068, saving model to model.03-288.38.h5\n",
            "212/212 [==============================] - 32s 153ms/step - loss: 16.6513 - mae: 2.7970 - val_loss: 288.3807 - val_mae: 15.3748\n",
            "Epoch 4/10\n",
            "211/212 [============================>.] - ETA: 0s - loss: 13.4632 - mae: 2.4392\n",
            "Epoch 4: val_loss did not improve from 288.38068\n",
            "212/212 [==============================] - 33s 154ms/step - loss: 13.4681 - mae: 2.4397 - val_loss: 303.4974 - val_mae: 16.0331\n",
            "Epoch 5/10\n",
            "211/212 [============================>.] - ETA: 0s - loss: 11.5667 - mae: 2.2170\n",
            "Epoch 5: val_loss did not improve from 288.38068\n",
            "212/212 [==============================] - 32s 149ms/step - loss: 11.5847 - mae: 2.2181 - val_loss: 329.7648 - val_mae: 16.8054\n"
          ]
        }
      ]
    },
    {
      "cell_type": "code",
      "source": [
        "converter = tf.lite.TFLiteConverter.from_keras_model(model)\n",
        "tflite_model = converter.convert()\n",
        "\n",
        "# Save the model.\n",
        "with open('model.tflite', 'wb') as f:\n",
        "  f.write(tflite_model)"
      ],
      "metadata": {
        "id": "Cxuk_m-7QTbh",
        "outputId": "5f1738b4-751b-4c4d-a89c-8c0caf3942f0",
        "colab": {
          "base_uri": "https://localhost:8080/"
        }
      },
      "execution_count": 29,
      "outputs": [
        {
          "output_type": "stream",
          "name": "stderr",
          "text": [
            "WARNING:absl:Function `_wrapped_model` contains input name(s) mobilenetv2_1.00_96_input with unsupported characters which will be renamed to mobilenetv2_1_00_96_input in the SavedModel.\n"
          ]
        },
        {
          "output_type": "stream",
          "name": "stdout",
          "text": [
            "INFO:tensorflow:Assets written to: /tmp/tmp5pyva8vk/assets\n"
          ]
        },
        {
          "output_type": "stream",
          "name": "stderr",
          "text": [
            "INFO:tensorflow:Assets written to: /tmp/tmp5pyva8vk/assets\n",
            "WARNING:absl:Buffer deduplication procedure will be skipped when flatbuffer library is not properly loaded\n"
          ]
        }
      ]
    },
    {
      "cell_type": "code",
      "source": [
        "prediction_val=model.predict(X_test,batch_size=BATCH_SIZE)\n"
      ],
      "metadata": {
        "id": "fT-1IVqyRqi5"
      },
      "execution_count": 30,
      "outputs": []
    },
    {
      "cell_type": "code",
      "source": [
        "prediction_val[:20]"
      ],
      "metadata": {
        "id": "Lqdd-ELrQTe7",
        "outputId": "f934e722-fe54-4e77-8821-9dff10deacde",
        "colab": {
          "base_uri": "https://localhost:8080/"
        }
      },
      "execution_count": 31,
      "outputs": [
        {
          "output_type": "execute_result",
          "data": {
            "text/plain": [
              "array([[28.96565 ],\n",
              "       [25.42814 ],\n",
              "       [35.463375],\n",
              "       [27.532999],\n",
              "       [34.846992],\n",
              "       [30.893404],\n",
              "       [18.967182],\n",
              "       [35.332695],\n",
              "       [35.630703],\n",
              "       [37.123726],\n",
              "       [32.909786],\n",
              "       [36.625977],\n",
              "       [35.747444],\n",
              "       [34.826057],\n",
              "       [36.365086],\n",
              "       [33.828236],\n",
              "       [20.563824],\n",
              "       [35.24498 ],\n",
              "       [34.70197 ],\n",
              "       [35.042057]], dtype=float32)"
            ]
          },
          "metadata": {},
          "execution_count": 31
        }
      ]
    },
    {
      "cell_type": "code",
      "source": [
        "Y_test[:20]\n"
      ],
      "metadata": {
        "id": "Hqp0VDm3QTkn",
        "outputId": "1f83c954-6fe9-4c34-f8b6-845d27894334",
        "colab": {
          "base_uri": "https://localhost:8080/"
        }
      },
      "execution_count": 32,
      "outputs": [
        {
          "output_type": "execute_result",
          "data": {
            "text/plain": [
              "array([10,  3,  1,  4, 21, 11,  6, 24, 13, 24, 18, 19, 20, 24, 24, 21,  4,\n",
              "       24, 23, 10])"
            ]
          },
          "metadata": {},
          "execution_count": 32
        }
      ]
    }
  ]
}